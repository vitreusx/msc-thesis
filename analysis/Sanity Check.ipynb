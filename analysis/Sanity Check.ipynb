{
 "cells": [
  {
   "cell_type": "code",
   "execution_count": null,
   "metadata": {},
   "outputs": [],
   "source": [
    "from utils import *\n",
    "from plotly.subplots import make_subplots\n",
    "from tqdm.auto import tqdm\n",
    "import json\n",
    "from loaders import dreamerv2_loader, sanity_check_loader"
   ]
  },
  {
   "cell_type": "code",
   "execution_count": null,
   "metadata": {},
   "outputs": [],
   "source": [
    "res_df, scalars = sanity_check_loader()\n",
    "ref_df = dreamerv2_loader()"
   ]
  },
  {
   "cell_type": "code",
   "execution_count": null,
   "metadata": {},
   "outputs": [],
   "source": [
    "envs = res_df[\"env\"].unique()\n",
    "\n",
    "fig = make_subplots(\n",
    "    rows=1,\n",
    "    cols=len(envs),\n",
    "    column_titles=[*envs],\n",
    ")\n",
    "\n",
    "axis = 1\n",
    "for col, env in enumerate(envs, 1):\n",
    "    dfs = []\n",
    "    for _, test in res_df[res_df[\"env\"] == env].iterrows():\n",
    "        df = scalars.read(test[\"path\"])\n",
    "        df = df[df[\"tag\"] == \"val/mean_ep_ret\"]\n",
    "        df[\"index\"] = np.arange(len(df))\n",
    "        dfs.append(df)\n",
    "    df = pd.concat(dfs)\n",
    "\n",
    "    g = df.groupby(\"index\")\n",
    "    avg_df = pd.DataFrame.from_records(\n",
    "        {\n",
    "            \"score_mean\": g[\"value\"].mean(),\n",
    "            \"score_std\": g[\"value\"].std(),\n",
    "            \"step\": g[\"step\"].median(),\n",
    "        }\n",
    "    )\n",
    "\n",
    "    kw = dict() if col == 1 else dict(showlegend=False)\n",
    "\n",
    "    colors = make_color_iter()\n",
    "    color = next(colors)\n",
    "    for trace in err_line(\n",
    "        x=avg_df[\"step\"],\n",
    "        y=avg_df[\"score_mean\"],\n",
    "        std=avg_df[\"score_std\"],\n",
    "        color=color,\n",
    "        name=\"PyTorch\",\n",
    "        **kw,\n",
    "    ):\n",
    "        fig.add_trace(trace, row=1, col=col)\n",
    "\n",
    "    ref_ = ref_df[(ref_df[\"task\"] == env) & (ref_df[\"time\"] <= 6e6)]\n",
    "    g = ref_.groupby(\"time\")\n",
    "    avg_ref_df = pd.DataFrame.from_records(\n",
    "        {\n",
    "            \"score_mean\": g[\"score\"].mean(),\n",
    "            \"score_std\": g[\"score\"].std(),\n",
    "        }\n",
    "    )\n",
    "    avg_ref_df = avg_ref_df.reset_index()\n",
    "\n",
    "    color = next(colors)\n",
    "    for trace in err_line(\n",
    "        x=avg_ref_df[\"time\"],\n",
    "        y=avg_ref_df[\"score_mean\"],\n",
    "        std=avg_ref_df[\"score_std\"],\n",
    "        color=color,\n",
    "        name=\"Reference\",\n",
    "        **kw,\n",
    "    ):\n",
    "        fig.add_trace(trace, row=1, col=col)\n",
    "\n",
    "    fig.update_layout(**{f\"xaxis{axis}\": dict(title=\"Env step\")})\n",
    "    axis += 1\n",
    "\n",
    "fig.update_layout(width=1000, height=400, yaxis_title=\"Score\")\n",
    "fig.write_image(\"../tex/assets/torch_v_ref.pdf\")\n",
    "fig"
   ]
  }
 ],
 "metadata": {
  "kernelspec": {
   "display_name": "rsrch-8qRRKNqI-py3.10",
   "language": "python",
   "name": "python3"
  },
  "language_info": {
   "codemirror_mode": {
    "name": "ipython",
    "version": 3
   },
   "file_extension": ".py",
   "mimetype": "text/x-python",
   "name": "python",
   "nbconvert_exporter": "python",
   "pygments_lexer": "ipython3",
   "version": "3.10.14"
  }
 },
 "nbformat": 4,
 "nbformat_minor": 2
}
