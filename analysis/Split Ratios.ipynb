{
 "cells": [
  {
   "cell_type": "code",
   "execution_count": null,
   "metadata": {},
   "outputs": [],
   "source": [
    "from utils import *\n",
    "from plotly.subplots import make_subplots\n",
    "from tqdm.auto import tqdm\n",
    "from loaders import split_ratios_loader"
   ]
  },
  {
   "cell_type": "code",
   "execution_count": null,
   "metadata": {},
   "outputs": [],
   "source": [
    "res_df, scalars = split_ratios_loader()"
   ]
  },
  {
   "cell_type": "code",
   "execution_count": null,
   "metadata": {},
   "outputs": [],
   "source": [
    "tags = []\n",
    "for _, row in res_df.iterrows():\n",
    "    tags.append(f\"{row['wm_ratio']}/{row['rl_ratio']}\")\n",
    "res_df[\"tag\"] = tags\n",
    "res_df = res_df.sort_values(by=\"tag\")"
   ]
  },
  {
   "cell_type": "code",
   "execution_count": null,
   "metadata": {},
   "outputs": [],
   "source": [
    "envs = res_df[\"env\"].unique()\n",
    "\n",
    "fig = make_subplots(\n",
    "    rows=len(envs),\n",
    "    row_titles=[*envs],\n",
    "    cols=1,\n",
    ")\n",
    "\n",
    "for row, env in enumerate(envs, 1):\n",
    "    df_ = res_df[res_df[\"env\"] == env]\n",
    "    fig.add_trace(\n",
    "        go.Box(x=df_[\"tag\"], y=df_[\"score\"], sizemode=\"sd\"),\n",
    "        row=row,\n",
    "        col=1,\n",
    "    )\n",
    "\n",
    "# fig.update_traces(meanline_visible=True)\n",
    "fig.update_layout(\n",
    "    width=1000,\n",
    "    height=400,\n",
    "    xaxis_title=\"Configuration\",\n",
    "    yaxis_title=\"Score\",\n",
    ")\n",
    "\n",
    "fig.write_image(\"../tex/assets/split_ratios_perf.pdf\")\n",
    "fig"
   ]
  }
 ],
 "metadata": {
  "kernelspec": {
   "display_name": "rsrch-8qRRKNqI-py3.10",
   "language": "python",
   "name": "python3"
  },
  "language_info": {
   "codemirror_mode": {
    "name": "ipython",
    "version": 3
   },
   "file_extension": ".py",
   "mimetype": "text/x-python",
   "name": "python",
   "nbconvert_exporter": "python",
   "pygments_lexer": "ipython3",
   "version": "3.10.14"
  }
 },
 "nbformat": 4,
 "nbformat_minor": 2
}
