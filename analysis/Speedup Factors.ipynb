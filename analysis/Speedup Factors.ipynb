{
 "cells": [
  {
   "cell_type": "code",
   "execution_count": null,
   "metadata": {},
   "outputs": [],
   "source": [
    "from utils import *\n",
    "from plotly.subplots import make_subplots\n",
    "from tqdm.auto import tqdm\n",
    "import json\n",
    "from loaders import *"
   ]
  },
  {
   "cell_type": "code",
   "execution_count": null,
   "metadata": {},
   "outputs": [],
   "source": [
    "dv2_df = dreamerv2_loader()\n",
    "ref_df = reference_loader()"
   ]
  },
  {
   "cell_type": "code",
   "execution_count": null,
   "metadata": {},
   "outputs": [],
   "source": [
    "df = dv2_df.copy()\n",
    "df = df.merge(ref_df, on=\"task\")\n",
    "df[\"norm\"] = (df[\"score\"] - df[\"random\"]) / (df[\"human_gamer\"] - df[\"random\"])\n",
    "g = df.groupby([\"time\"])\n",
    "df = pd.concat({\"mean\": g[\"norm\"].mean(), \"median\": g[\"norm\"].median()}, axis=1)\n",
    "df = df.reset_index()\n",
    "df"
   ]
  },
  {
   "cell_type": "code",
   "execution_count": null,
   "metadata": {},
   "outputs": [],
   "source": [
    "fig = make_subplots(\n",
    "    cols=2,\n",
    "    column_titles=[\"Human Mean\", \"Human Median\"],\n",
    ")\n",
    "\n",
    "for trace in px.line(df, x=\"time\", y=\"mean\").data:\n",
    "    fig.add_trace(trace, row=1, col=1)\n",
    "\n",
    "for trace in px.line(df, x=\"time\", y=\"median\").data:\n",
    "    fig.add_trace(trace, row=1, col=2)\n",
    "\n",
    "fig.update_layout(width=1000, height=400)\n",
    "for col in (1, 2):\n",
    "    fig.update_xaxes(title=\"Env step\", type=\"log\", row=1, col=col)\n",
    "    fig.update_yaxes(title=\"Normalized score\", row=1, col=col)\n",
    "\n",
    "fig.write_image(\"../tex/assets/dreamerv2_curves.pdf\")\n",
    "fig"
   ]
  },
  {
   "cell_type": "code",
   "execution_count": null,
   "metadata": {},
   "outputs": [],
   "source": [
    "from scipy.optimize import root_scalar\n",
    "\n",
    "\n",
    "def f1(x, y):\n",
    "    return np.interp(x, df[\"time\"], df[\"mean\"]) - y\n",
    "\n",
    "\n",
    "def f2(x, y):\n",
    "    return np.interp(x, df[\"time\"], df[\"median\"]) - y\n",
    "\n",
    "\n",
    "print(\"Mean (Ours): \")\n",
    "print(root_scalar(f1, args=(0.975,), x0=1e6, x1=6e6))\n",
    "\n",
    "print(\"Median (Ours): \")\n",
    "print(root_scalar(f2, args=(0.205,), x0=1e6, x1=6e6))\n",
    "\n",
    "print(\"Median (BBF): \")\n",
    "print(root_scalar(f2, args=(0.917,), x0=1e6, x1=6e6))"
   ]
  }
 ],
 "metadata": {
  "kernelspec": {
   "display_name": "rsrch-8qRRKNqI-py3.10",
   "language": "python",
   "name": "python3"
  },
  "language_info": {
   "codemirror_mode": {
    "name": "ipython",
    "version": 3
   },
   "file_extension": ".py",
   "mimetype": "text/x-python",
   "name": "python",
   "nbconvert_exporter": "python",
   "pygments_lexer": "ipython3",
   "version": "3.10.14"
  }
 },
 "nbformat": 4,
 "nbformat_minor": 2
}
