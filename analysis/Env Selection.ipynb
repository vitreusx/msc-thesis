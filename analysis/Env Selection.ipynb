{
 "cells": [
  {
   "cell_type": "code",
   "execution_count": null,
   "metadata": {},
   "outputs": [],
   "source": [
    "import json\n",
    "import plotly.express as px\n",
    "import plotly.graph_objects as go\n",
    "from plotly.subplots import make_subplots\n",
    "import pandas as pd\n",
    "from utils import ATARI_100k\n",
    "import numpy as np\n",
    "from loaders import dreamerv2_loader\n",
    "from utils import to_rgba"
   ]
  },
  {
   "cell_type": "code",
   "execution_count": null,
   "metadata": {},
   "outputs": [],
   "source": [
    "df = dreamerv2_loader()"
   ]
  },
  {
   "cell_type": "code",
   "execution_count": null,
   "metadata": {},
   "outputs": [],
   "source": [
    "g = df.groupby([\"task\", \"time\"])\n",
    "avg_df = pd.DataFrame.from_records(\n",
    "    {\n",
    "        \"score_mean\": g[\"score\"].mean(),\n",
    "        \"score_std\": g[\"score\"].std(),\n",
    "        \"score_min\": g[\"score\"].min(),\n",
    "        \"score_max\": g[\"score\"].max(),\n",
    "    }\n",
    ")\n",
    "avg_df.reset_index(inplace=True)\n",
    "avg_df"
   ]
  },
  {
   "cell_type": "code",
   "execution_count": null,
   "metadata": {},
   "outputs": [],
   "source": [
    "avg_df[\"task\"].unique()"
   ]
  },
  {
   "cell_type": "code",
   "execution_count": null,
   "metadata": {},
   "outputs": [],
   "source": [
    "df_6m = avg_df[(avg_df[\"time\"] <= 6e6) & (avg_df[\"task\"].isin(ATARI_100k))]\n",
    "df_6m"
   ]
  },
  {
   "cell_type": "code",
   "execution_count": null,
   "metadata": {},
   "outputs": [],
   "source": [
    "cols = 4\n",
    "tasks = df_6m[\"task\"].unique()\n",
    "rows = (len(tasks) + cols - 1) // cols\n",
    "\n",
    "fig = make_subplots(\n",
    "    rows=rows,\n",
    "    cols=cols,\n",
    "    subplot_titles=[*tasks],\n",
    ")\n",
    "pos = np.stack(np.mgrid[:rows, :cols], -1).reshape(-1, 2) + 1\n",
    "\n",
    "\n",
    "selected = {\n",
    "    \"Amidar\",\n",
    "    \"Assault\",\n",
    "    \"Asterix\",\n",
    "    \"CrazyClimber\",\n",
    "    \"Pong\",\n",
    "    \"MsPacman\",\n",
    "    \"Jamesbond\",\n",
    "}\n",
    "\n",
    "\n",
    "axis = 1\n",
    "for (row, col), task in zip(pos, tasks):\n",
    "    task_df = df_6m[df_6m[\"task\"] == task]\n",
    "\n",
    "    x, y = task_df[\"time\"], task_df[\"score_mean\"]\n",
    "    y_lower = task_df[\"score_mean\"] - task_df[\"score_std\"]\n",
    "    y_upper = task_df[\"score_mean\"] + task_df[\"score_std\"]\n",
    "\n",
    "    color = \"rgb(0, 0, 255)\" if task in selected else \"rgb(255, 0, 0)\"\n",
    "    traces = [\n",
    "        go.Scatter(\n",
    "            x=x,\n",
    "            y=y,\n",
    "            mode=\"lines\",\n",
    "            line=dict(color=color),\n",
    "            showlegend=False,\n",
    "        ),\n",
    "        go.Scatter(\n",
    "            x=[*x, *x[::-1]],\n",
    "            y=[*y_upper, *y_lower[::-1]],\n",
    "            fill=\"tozerox\",\n",
    "            fillcolor=to_rgba(color),\n",
    "            line=dict(color=\"rgba(255, 255, 255, 0)\"),\n",
    "            showlegend=False,\n",
    "        ),\n",
    "    ]\n",
    "    for trace in traces:\n",
    "        fig.add_trace(trace, row=row, col=col)\n",
    "\n",
    "    if col == 1:\n",
    "        fig.update_layout(**{f\"yaxis{axis}\": dict(title=\"Score\")})\n",
    "    axis += 1\n",
    "\n",
    "\n",
    "fig.update_layout(width=800, height=1200)\n",
    "\n",
    "fig.write_image(\"../tex/assets/env_selection.pdf\")\n",
    "fig"
   ]
  },
  {
   "cell_type": "code",
   "execution_count": null,
   "metadata": {},
   "outputs": [],
   "source": []
  }
 ],
 "metadata": {
  "kernelspec": {
   "display_name": "rsrch-8qRRKNqI-py3.10",
   "language": "python",
   "name": "python3"
  },
  "language_info": {
   "codemirror_mode": {
    "name": "ipython",
    "version": 3
   },
   "file_extension": ".py",
   "mimetype": "text/x-python",
   "name": "python",
   "nbconvert_exporter": "python",
   "pygments_lexer": "ipython3",
   "version": "3.10.14"
  }
 },
 "nbformat": 4,
 "nbformat_minor": 2
}
