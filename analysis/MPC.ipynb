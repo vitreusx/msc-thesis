{
 "cells": [
  {
   "cell_type": "code",
   "execution_count": null,
   "metadata": {},
   "outputs": [],
   "source": [
    "from utils import *\n",
    "from plotly.subplots import make_subplots\n",
    "from tqdm.auto import tqdm\n",
    "import json\n",
    "from loaders import *"
   ]
  },
  {
   "cell_type": "code",
   "execution_count": null,
   "metadata": {},
   "outputs": [],
   "source": [
    "res_df, scalars = mpc_base_loader()\n",
    "res_b_df, scalars_b = baseline_loader()"
   ]
  },
  {
   "cell_type": "code",
   "execution_count": null,
   "metadata": {},
   "outputs": [],
   "source": [
    "envs = res_df[\"env\"].unique()\n",
    "\n",
    "fig = make_subplots(\n",
    "    cols=len(envs),\n",
    "    column_titles=[*envs],\n",
    ")\n",
    "\n",
    "colors = make_color_iter()\n",
    "colors = [next(colors) for _ in range(2)]\n",
    "axis = 1\n",
    "\n",
    "for col, env in enumerate(envs, 1):\n",
    "    df1 = res_df[res_df[\"env\"] == env].copy()\n",
    "    df1[\"tag\"] = df1[\"ratio\"].apply(lambda r: f\"K = {r}\")\n",
    "    df1 = df1.sort_values(by=\"tag\")\n",
    "    fig.add_trace(\n",
    "        go.Box(\n",
    "            x=df1[\"tag\"],\n",
    "            y=df1[\"score\"],\n",
    "            sizemode=\"sd\",\n",
    "            boxmean=True,\n",
    "            name=\"CEM\",\n",
    "            offsetgroup=\"0\",\n",
    "            legendgroup=\"0\",\n",
    "            showlegend=(col == 1),\n",
    "            marker=dict(color=colors[0]),\n",
    "        ),\n",
    "        row=1,\n",
    "        col=col,\n",
    "    )\n",
    "\n",
    "    df2 = res_b_df[res_b_df[\"env\"] == env].copy()\n",
    "    df2 = df2[df2[\"ratio\"].isin(df1[\"ratio\"].unique())]\n",
    "    df2[\"tag\"] = df2[\"ratio\"].apply(lambda r: f\"K = {r}\")\n",
    "    df2 = df2.sort_values(by=\"tag\")\n",
    "    fig.add_trace(\n",
    "        go.Box(\n",
    "            x=df2[\"tag\"],\n",
    "            y=df2[\"score\"],\n",
    "            sizemode=\"sd\",\n",
    "            boxmean=True,\n",
    "            name=\"Baseline\",\n",
    "            offsetgroup=\"1\",\n",
    "            legendgroup=\"1\",\n",
    "            showlegend=(col == 1),\n",
    "            marker=dict(color=colors[1]),\n",
    "        ),\n",
    "        row=1,\n",
    "        col=col,\n",
    "    )\n",
    "\n",
    "    fig.update_layout(\n",
    "        **{f\"xaxis{axis}\": dict(title=\"Configuration\")},\n",
    "        **({f\"yaxis{axis}\": dict(title=\"Score\")} if col == 1 else {}),\n",
    "    )\n",
    "    axis += 1\n",
    "\n",
    "fig.update_layout(\n",
    "    boxmode=\"group\",\n",
    "    width=1000,\n",
    "    height=400,\n",
    ")\n",
    "fig.write_image(\"../tex/assets/cem_base.pdf\")\n",
    "fig"
   ]
  }
 ],
 "metadata": {
  "kernelspec": {
   "display_name": "rsrch-8qRRKNqI-py3.10",
   "language": "python",
   "name": "python3"
  },
  "language_info": {
   "codemirror_mode": {
    "name": "ipython",
    "version": 3
   },
   "file_extension": ".py",
   "mimetype": "text/x-python",
   "name": "python",
   "nbconvert_exporter": "python",
   "pygments_lexer": "ipython3",
   "version": "3.10.14"
  }
 },
 "nbformat": 4,
 "nbformat_minor": 2
}
